{
  "nbformat": 4,
  "nbformat_minor": 0,
  "metadata": {
    "colab": {
      "name": "tuples_and_sets.ipynb",
      "provenance": [],
      "collapsed_sections": []
    },
    "kernelspec": {
      "name": "python3",
      "display_name": "Python 3"
    },
    "language_info": {
      "name": "python"
    }
  },
  "cells": [
    {
      "cell_type": "markdown",
      "metadata": {
        "id": "3S53mcyAxibD"
      },
      "source": [
        "# **GANDHAM PRASANTHI**\n",
        "\n",
        "# **1MS19CS045**\n"
      ]
    },
    {
      "cell_type": "markdown",
      "metadata": {
        "id": "0aC0aB4xxnSh"
      },
      "source": [
        "#**TUPLES AND SETS**\n",
        "\n",
        "---"
      ]
    },
    {
      "cell_type": "markdown",
      "metadata": {
        "id": "MUcH_jR9xnhv"
      },
      "source": [
        "## **QUESTIONS**\n",
        "\n",
        "---"
      ]
    },
    {
      "cell_type": "markdown",
      "metadata": {
        "id": "6aDYCEbN872d"
      },
      "source": [
        "1.\tGiven a list of tuples, extract all tuples having K digit elements.\n",
        "```\n",
        "Input : test_list = [(54, 2), (34, 55), (222, 23), (12, 45), (78, )], K = 2 \n",
        "Output : [(34, 55), (12, 45), (78,)] \n",
        "Explanation : All tuples have numbers with 2 digits.\n",
        "Input : test_list = [(54, 2), (34, 55), (222, 23), (12, 45), (782, )], K = 3 \n",
        "Output : [(782,)] \n",
        "Explanation : All tuples have numbers with 3 digits. \n",
        "```\n",
        "2.\tWhile working with Python data, we can have a problem in which we have data in form of nested and non-nested form inside in a single tuple, and we wish to count the element frequency in them. This kind of problem can come in domains such as web development and Data Science. \n",
        "```\n",
        "Input : test_tuple = (5, (6, (7, 8, 6)))\n",
        "Output : {5: 1, 6: 2, 7: 1, 8: 1}\n",
        "Input : test_tuple = (5, 6, 7, 8)\n",
        "Output : {5: 1, 6: 1, 7: 1, 8: 1}\n",
        "```\n",
        "3.\tGiven a set, write a Python program to generate all possible subset of size n of given set within a list.\n",
        "```\n",
        "Examples:\n",
        "Input : {1, 2, 3}, n = 2\n",
        "Output : [{1, 2}, {1, 3}, {2, 3}]\n",
        "Input : {1, 2, 3, 4}, n = 3\n",
        "Output : [{1, 2, 3}, {1, 2, 4}, {1, 3, 4}, {2, 3, 4}]\n",
        "```"
      ]
    },
    {
      "cell_type": "markdown",
      "metadata": {
        "id": "XNU8Q-9Oyeyj"
      },
      "source": [
        "## **SOLUTIONS**\n",
        "\n",
        "---"
      ]
    },
    {
      "cell_type": "markdown",
      "metadata": {
        "id": "-XX-q16FyiYo"
      },
      "source": [
        "***Answer 1)***"
      ]
    },
    {
      "cell_type": "code",
      "metadata": {
        "id": "tPYLwRv29flo"
      },
      "source": [
        "def kDigitTuple(lst, k):\n",
        "  output_list = []\n",
        "\n",
        "  for tup in lst:\n",
        "    flag = True\n",
        "    for ele in tup:\n",
        "      if len(str(ele)) != k:\n",
        "        flag = False\n",
        "    if flag:\n",
        "      output_list.append(tup)\n",
        "\n",
        "  return output_list"
      ],
      "execution_count": null,
      "outputs": []
    },
    {
      "cell_type": "code",
      "metadata": {
        "colab": {
          "base_uri": "https://localhost:8080/"
        },
        "id": "UkDObwv9Ebhu",
        "outputId": "2aebae89-c869-4841-dd06-c5127349ced1"
      },
      "source": [
        "kDigitTuple([(54, 2), (34, 55), (222, 23), (12, 45), (78, )],2)"
      ],
      "execution_count": null,
      "outputs": [
        {
          "output_type": "execute_result",
          "data": {
            "text/plain": [
              "[(34, 55), (12, 45), (78,)]"
            ]
          },
          "metadata": {
            "tags": []
          },
          "execution_count": 20
        }
      ]
    },
    {
      "cell_type": "markdown",
      "metadata": {
        "id": "AXU8Rv9kGaoI"
      },
      "source": [
        "***Answer 2)***"
      ]
    },
    {
      "cell_type": "code",
      "metadata": {
        "id": "tR1AeiiBGdo6"
      },
      "source": [
        "d = {}\n",
        "def counter(tuple):\n",
        "  for tup in tuple:\n",
        "    if type(tup) is int:\n",
        "      if tup not in d:\n",
        "        d[tup] = 1\n",
        "      else:\n",
        "        d[tup] += 1\n",
        "    else:\n",
        "      counter(tup)\n"
      ],
      "execution_count": null,
      "outputs": []
    },
    {
      "cell_type": "code",
      "metadata": {
        "colab": {
          "base_uri": "https://localhost:8080/"
        },
        "id": "dU612FoTLGQf",
        "outputId": "a54bcfc4-32b2-4213-bb9a-229c8ea13804"
      },
      "source": [
        "counter((5, (6, (7, 8, 6))))\n",
        "print(d)"
      ],
      "execution_count": null,
      "outputs": [
        {
          "output_type": "stream",
          "text": [
            "{5: 1, 6: 2, 7: 1, 8: 1}\n"
          ],
          "name": "stdout"
        }
      ]
    },
    {
      "cell_type": "markdown",
      "metadata": {
        "id": "4xBCcmkeGd5J"
      },
      "source": [
        "***Answer 3)***"
      ]
    },
    {
      "cell_type": "code",
      "metadata": {
        "id": "H5LAYFhqLrAD",
        "colab": {
          "base_uri": "https://localhost:8080/",
          "height": 0
        },
        "outputId": "3e189b3e-4399-492c-8341-f0616e7e9838"
      },
      "source": [
        "import itertools\n",
        "\n",
        "def subsets(s, n):\n",
        "  return list(map(set,itertools.combinations(s,n)))\n",
        "\n",
        "subsets({1, 2, 3},2)\n",
        "  "
      ],
      "execution_count": 8,
      "outputs": [
        {
          "output_type": "execute_result",
          "data": {
            "text/plain": [
              "[{1, 2}, {1, 3}, {2, 3}]"
            ]
          },
          "metadata": {
            "tags": []
          },
          "execution_count": 8
        }
      ]
    },
    {
      "cell_type": "code",
      "metadata": {
        "colab": {
          "base_uri": "https://localhost:8080/",
          "height": 0
        },
        "id": "HKJPjHal2XN8",
        "outputId": "aa3ebd0f-015a-4063-9149-b4d38c72ebe2"
      },
      "source": [
        "subsets({1, 2, 3, 4},3)"
      ],
      "execution_count": 9,
      "outputs": [
        {
          "output_type": "execute_result",
          "data": {
            "text/plain": [
              "[{1, 2, 3}, {1, 2, 4}, {1, 3, 4}, {2, 3, 4}]"
            ]
          },
          "metadata": {
            "tags": []
          },
          "execution_count": 9
        }
      ]
    }
  ]
}