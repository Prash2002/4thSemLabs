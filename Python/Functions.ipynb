{
  "nbformat": 4,
  "nbformat_minor": 5,
  "metadata": {
    "kernelspec": {
      "display_name": "Python 3",
      "language": "python",
      "name": "python3"
    },
    "language_info": {
      "codemirror_mode": {
        "name": "ipython",
        "version": 3
      },
      "file_extension": ".py",
      "mimetype": "text/x-python",
      "name": "python",
      "nbconvert_exporter": "python",
      "pygments_lexer": "ipython3",
      "version": "3.6.9"
    },
    "colab": {
      "name": "Functions.ipynb",
      "provenance": [],
      "collapsed_sections": []
    }
  },
  "cells": [
    {
      "cell_type": "markdown",
      "metadata": {
        "id": "accurate-footwear"
      },
      "source": [
        "# **GANDHAM PRASANTHI**\n",
        "\n",
        "# **1MS19CS045**"
      ],
      "id": "accurate-footwear"
    },
    {
      "cell_type": "markdown",
      "metadata": {
        "id": "selected-dimension"
      },
      "source": [
        "#**FUNCTIONS**\n",
        "\n",
        "---\n",
        "\n"
      ],
      "id": "selected-dimension"
    },
    {
      "cell_type": "markdown",
      "metadata": {
        "id": "MKR_Wp8o84e3"
      },
      "source": [
        "## **QUESTIONS**\n",
        "\n",
        "---\n",
        "\n"
      ],
      "id": "MKR_Wp8o84e3"
    },
    {
      "cell_type": "markdown",
      "metadata": {
        "id": "canadian-check"
      },
      "source": [
        "1. Write a python function geometric() that takes a list of integers as input and returns True if the integers in the list form a geometric sequence. A sequence a0, a1, a2, a3, a4, . . . , an is a geometric sequence if the ratios a1/a0, a2/a1, a3/a2, a4/a3, . . . , an-1/an are all equal.\n",
        "\n",
        "  \n",
        "\n",
        "\n",
        "```\n",
        "geometric([2, 4, 8, 16, 32, 64, 128, 256])\n",
        "  True\n",
        "\n",
        "geometric([2, 4, 6, 8])\n",
        "  False\n",
        "```\n",
        "\n",
        "2. Write a python function names() that takes no input and repeatedly asks the user to enter the first name of a student in a class. When the user enters the empty string, the function should print for every name the number of students with that name.\n",
        "\n",
        "\n",
        "```\n",
        "names()\n",
        "Enter next name: Valerie\n",
        "Enter next name: Bob\n",
        "Enter next name: Valerie\n",
        "Enter next name: Amelia\n",
        "Enter next name: Bob\n",
        "Enter next name:\n",
        "There is 1 student named Amelia\n",
        "There are 2 students named Bob\n",
        "There are 2 students named Valerie\n",
        "```\n",
        "\n",
        "3. Write a python function subsetSum() that takes as input a list of positive numbers and a positive number target. Your function should return True if there are three numbers in the list that add up to target. For example, if the input list is [5, 4, 10, 20, 15, 19] and target is 38, then True should be returned since 4+15+19 = 38. However, if the input list is the same but the target value is 10, then the returned value should be False because 10 is not the sum of any three numbers in the given list.\n",
        "\n",
        "4. Write the function alternatingSum(L) that takes a list of numbers and returns the alternating sum (where the sign alternates from positive to negative or vice versa). For example, \n",
        "alternatingSum([5,3,8,4]) returns 6 (that is, 5-3+8-4). \n",
        "If the list is empty, return 0."
      ],
      "id": "canadian-check"
    },
    {
      "cell_type": "markdown",
      "metadata": {
        "id": "SPKKBML8-sqg"
      },
      "source": [
        "## **SOLUTIONS**\n",
        "\n",
        "---"
      ],
      "id": "SPKKBML8-sqg"
    },
    {
      "cell_type": "markdown",
      "metadata": {
        "id": "Ru_7dihoDXbZ"
      },
      "source": [
        "***Answer 1)***"
      ],
      "id": "Ru_7dihoDXbZ"
    },
    {
      "cell_type": "code",
      "metadata": {
        "id": "annual-halifax"
      },
      "source": [
        "def geometric(a):\n",
        "    r = a[1]/a[0]\n",
        "    for i in range(len(a)-1):\n",
        "        if a[i+1]/a[i] != r:\n",
        "            return False\n",
        "    return True\n",
        "        "
      ],
      "id": "annual-halifax",
      "execution_count": null,
      "outputs": []
    },
    {
      "cell_type": "code",
      "metadata": {
        "colab": {
          "base_uri": "https://localhost:8080/"
        },
        "id": "impressed-brazilian",
        "outputId": "c19150eb-c287-4709-8f07-565b8011689c"
      },
      "source": [
        "geometric([2, 4, 8, 16, 32, 64, 128, 256])"
      ],
      "id": "impressed-brazilian",
      "execution_count": null,
      "outputs": [
        {
          "output_type": "execute_result",
          "data": {
            "text/plain": [
              "True"
            ]
          },
          "metadata": {
            "tags": []
          },
          "execution_count": 4
        }
      ]
    },
    {
      "cell_type": "code",
      "metadata": {
        "colab": {
          "base_uri": "https://localhost:8080/"
        },
        "id": "spread-clearance",
        "outputId": "425e371c-7066-4a74-f243-1f467823c801"
      },
      "source": [
        "geometric([2, 4, 6, 8])"
      ],
      "id": "spread-clearance",
      "execution_count": null,
      "outputs": [
        {
          "output_type": "execute_result",
          "data": {
            "text/plain": [
              "False"
            ]
          },
          "metadata": {
            "tags": []
          },
          "execution_count": 5
        }
      ]
    },
    {
      "cell_type": "markdown",
      "metadata": {
        "id": "d0_CNimDDZPO"
      },
      "source": [
        "***Answer 2)***"
      ],
      "id": "d0_CNimDDZPO"
    },
    {
      "cell_type": "code",
      "metadata": {
        "id": "technical-refund"
      },
      "source": [
        "def names():\n",
        "    inp = \"initialName\"\n",
        "    namesList =[]\n",
        "    while len(inp)!=0:\n",
        "        inp = input(\"Enter next name: \")\n",
        "        if len(inp)!=0:\n",
        "            namesList.append(inp)\n",
        "    namesList.sort()\n",
        "    x=1\n",
        "    for i in range(len(namesList)-1):\n",
        "        if(namesList[i]!=namesList[i+1]):\n",
        "            print(\"There are \"+ str(x)+ \" students named \" + namesList[i])\n",
        "            x=0\n",
        "        x+=1\n",
        "    print(\"There are \"+ str(x)+ \" students named \" + namesList[len(namesList)-1])"
      ],
      "id": "technical-refund",
      "execution_count": null,
      "outputs": []
    },
    {
      "cell_type": "code",
      "metadata": {
        "scrolled": true,
        "colab": {
          "base_uri": "https://localhost:8080/"
        },
        "id": "polish-cologne",
        "outputId": "61c3aa99-d0b5-4485-f6d6-41a0f666d3c9"
      },
      "source": [
        "names()"
      ],
      "id": "polish-cologne",
      "execution_count": null,
      "outputs": [
        {
          "output_type": "stream",
          "text": [
            "Enter next name: maya\n",
            "Enter next name: sunny\n",
            "Enter next name: suraj\n",
            "Enter next name: sunny\n",
            "Enter next name: maya\n",
            "Enter next name: raghav\n",
            "Enter next name: \n",
            "There are 2 students named maya\n",
            "There are 1 students named raghav\n",
            "There are 2 students named sunny\n",
            "There are 1 students named suraj\n"
          ],
          "name": "stdout"
        }
      ]
    },
    {
      "cell_type": "markdown",
      "metadata": {
        "id": "DvAXpHdXDbby"
      },
      "source": [
        "***Answer 3)***"
      ],
      "id": "DvAXpHdXDbby"
    },
    {
      "cell_type": "code",
      "metadata": {
        "id": "suitable-block",
        "colab": {
          "base_uri": "https://localhost:8080/",
          "height": 0
        },
        "outputId": "e848a78e-b684-47ea-9e7b-b370eb9aec23"
      },
      "source": [
        "import itertools\n",
        "\n",
        "def subsetSum(s, target):\n",
        "  ls = list(itertools.combinations(s,3))\n",
        "  for item in ls:\n",
        "    if sum(item)== target:\n",
        "      return True\n",
        "  return False\n",
        "\n",
        "subsetSum([5, 4, 10, 20, 15, 19],38)\n",
        "\n",
        "    "
      ],
      "id": "suitable-block",
      "execution_count": 7,
      "outputs": [
        {
          "output_type": "execute_result",
          "data": {
            "text/plain": [
              "True"
            ]
          },
          "metadata": {
            "tags": []
          },
          "execution_count": 7
        }
      ]
    },
    {
      "cell_type": "markdown",
      "metadata": {
        "id": "RUZHQtXaDdDn"
      },
      "source": [
        "***Answer 4)***"
      ],
      "id": "RUZHQtXaDdDn"
    },
    {
      "cell_type": "code",
      "metadata": {
        "id": "suburban-scholarship"
      },
      "source": [
        "def alternatingSum(l):\n",
        "    sum = 0\n",
        "    if len(l)==0:\n",
        "      return 0  \n",
        "    for i in range(len(l)):\n",
        "      if i%2==0:\n",
        "        sum += l[i]\n",
        "      else:\n",
        "        sum -=l[i]\n",
        "    return sum\n",
        "    "
      ],
      "id": "suburban-scholarship",
      "execution_count": null,
      "outputs": []
    },
    {
      "cell_type": "code",
      "metadata": {
        "colab": {
          "base_uri": "https://localhost:8080/"
        },
        "id": "stylish-certification",
        "outputId": "b537fbe4-fc82-4d00-e3a0-7d157604e899"
      },
      "source": [
        "print(alternatingSum([1, 5, 6, 3,2]))"
      ],
      "id": "stylish-certification",
      "execution_count": null,
      "outputs": [
        {
          "output_type": "stream",
          "text": [
            "1\n"
          ],
          "name": "stdout"
        }
      ]
    }
  ]
}