{
  "nbformat": 4,
  "nbformat_minor": 5,
  "metadata": {
    "kernelspec": {
      "display_name": "Python 3",
      "language": "python",
      "name": "python3"
    },
    "language_info": {
      "codemirror_mode": {
        "name": "ipython",
        "version": 3
      },
      "file_extension": ".py",
      "mimetype": "text/x-python",
      "name": "python",
      "nbconvert_exporter": "python",
      "pygments_lexer": "ipython3",
      "version": "3.6.9"
    },
    "colab": {
      "name": "Python_basics.ipynb",
      "provenance": [],
      "collapsed_sections": []
    }
  },
  "cells": [
    {
      "cell_type": "markdown",
      "metadata": {
        "id": "dominant-grave"
      },
      "source": [
        "# **GANDHAM PRASANTHI**\n",
        "\n",
        "# **1MS19CS045**"
      ],
      "id": "dominant-grave"
    },
    {
      "cell_type": "markdown",
      "metadata": {
        "id": "romantic-authentication"
      },
      "source": [
        "#**PYTHON BASICS**\n",
        "\n",
        "---\n"
      ],
      "id": "romantic-authentication"
    },
    {
      "cell_type": "markdown",
      "metadata": {
        "id": "TUfOTN_c_PNu"
      },
      "source": [
        "## **QUESTIONS**\n",
        "\n",
        "---"
      ],
      "id": "TUfOTN_c_PNu"
    },
    {
      "cell_type": "markdown",
      "metadata": {
        "id": "later-caution"
      },
      "source": [
        "1. Write a Python program that allows the user to enter two integer values, and displays the results when each of the following arithmetic operators are applied. \n",
        "\n",
        "```\n",
        "For example, if user enters the values 7 and 5, the output would be\n",
        "  7 + 5 = 12\n",
        "  7 - 5 = 2\n",
        "  7 * 5 = 35\n",
        "  7 / 5 = 1.40\n",
        "  7 // 5 = 1\n",
        "  7 % 5 = 2\n",
        "  7 ** 5 = 16,807\n",
        "```\n",
        "\n",
        "\n",
        "2. Write a Python program that allows the user to enter any integer value, and displays the value of 2 raised to that power. Your program should function as given.\n",
        "\n",
        "\n",
        "```\n",
        "  Input: What power of two? 10\n",
        "  Output: Two to the power of 10 is 1024\n",
        "```\n",
        "\n",
        "3. Write a Python program that allows the user to enter any integer base and integer exponent, and displays the value of the base raised to that exponent. Your program should function as shown below.\n",
        "\n",
        "```\n",
        "Input: What base? 10\n",
        "What power of 10? 4\n",
        "Output:10 to the power of 4 is 10000\n",
        "```\n",
        "\n",
        "4. Write a python program that asks the user how many coins of various types they have, and then prints the total amount of money in rupees."
      ],
      "id": "later-caution"
    },
    {
      "cell_type": "markdown",
      "metadata": {
        "id": "e8BAYMYz_4Mv"
      },
      "source": [
        "## **SOLUTIONS**\n",
        "\n",
        "---"
      ],
      "id": "e8BAYMYz_4Mv"
    },
    {
      "cell_type": "markdown",
      "metadata": {
        "id": "d514zvlPC4Y3"
      },
      "source": [
        "***Answer 1)***"
      ],
      "id": "d514zvlPC4Y3"
    },
    {
      "cell_type": "code",
      "metadata": {
        "colab": {
          "base_uri": "https://localhost:8080/"
        },
        "id": "pending-collapse",
        "outputId": "de4b7452-360f-4975-9808-6f57d195c583"
      },
      "source": [
        "x, y = input(\"Enter the numbers \").split()"
      ],
      "id": "pending-collapse",
      "execution_count": null,
      "outputs": [
        {
          "output_type": "stream",
          "text": [
            "Enter the numbers 7 5\n"
          ],
          "name": "stdout"
        }
      ]
    },
    {
      "cell_type": "code",
      "metadata": {
        "id": "fossil-museum"
      },
      "source": [
        "x= int(x)\n",
        "y = int(y)"
      ],
      "id": "fossil-museum",
      "execution_count": null,
      "outputs": []
    },
    {
      "cell_type": "code",
      "metadata": {
        "colab": {
          "base_uri": "https://localhost:8080/"
        },
        "id": "hundred-campbell",
        "outputId": "7af30549-e3da-4548-f3f2-4de1ac7daa5b"
      },
      "source": [
        "print(x+y)\n",
        "print(x-y)\n",
        "print(x*y)\n",
        "print(x/y)\n",
        "print(x//y)\n",
        "print(x%y)\n",
        "print(x**y)"
      ],
      "id": "hundred-campbell",
      "execution_count": null,
      "outputs": [
        {
          "output_type": "stream",
          "text": [
            "12\n",
            "2\n",
            "35\n",
            "1.4\n",
            "1\n",
            "2\n",
            "16807\n"
          ],
          "name": "stdout"
        }
      ]
    },
    {
      "cell_type": "markdown",
      "metadata": {
        "id": "PJXXZN1qDDeN"
      },
      "source": [
        "***Answer 2)***"
      ],
      "id": "PJXXZN1qDDeN"
    },
    {
      "cell_type": "code",
      "metadata": {
        "colab": {
          "base_uri": "https://localhost:8080/"
        },
        "id": "latest-farmer",
        "outputId": "4433efaa-8cf6-4247-e473-45bfc4bf38f3"
      },
      "source": [
        "x = int(input(\"What power of two? \"))"
      ],
      "id": "latest-farmer",
      "execution_count": null,
      "outputs": [
        {
          "output_type": "stream",
          "text": [
            "What power of two? 10\n"
          ],
          "name": "stdout"
        }
      ]
    },
    {
      "cell_type": "code",
      "metadata": {
        "colab": {
          "base_uri": "https://localhost:8080/"
        },
        "id": "impossible-introduction",
        "outputId": "1ce3bf3f-9e18-424d-d6d6-136c059158ca"
      },
      "source": [
        "print(\"two to the power of\", x , \"is\" ,2**x)"
      ],
      "id": "impossible-introduction",
      "execution_count": null,
      "outputs": [
        {
          "output_type": "stream",
          "text": [
            "two to the power of 10 is 1024\n"
          ],
          "name": "stdout"
        }
      ]
    },
    {
      "cell_type": "markdown",
      "metadata": {
        "id": "uRLQSX_ZDGfm"
      },
      "source": [
        "***Answer 3)***"
      ],
      "id": "uRLQSX_ZDGfm"
    },
    {
      "cell_type": "code",
      "metadata": {
        "colab": {
          "base_uri": "https://localhost:8080/"
        },
        "id": "blocked-prospect",
        "outputId": "0437eeb2-d52b-4c32-c1b8-b07edca58e8a"
      },
      "source": [
        "x = int(input(\"What is the base?  \"))"
      ],
      "id": "blocked-prospect",
      "execution_count": null,
      "outputs": [
        {
          "output_type": "stream",
          "text": [
            "What is the base?  10\n"
          ],
          "name": "stdout"
        }
      ]
    },
    {
      "cell_type": "code",
      "metadata": {
        "colab": {
          "base_uri": "https://localhost:8080/"
        },
        "id": "overall-preview",
        "outputId": "1e7bfc7d-0344-43ab-e587-7feae6830916"
      },
      "source": [
        "y = int(input(\"What is power of \"+ str(x) +\"? \" ))"
      ],
      "id": "overall-preview",
      "execution_count": null,
      "outputs": [
        {
          "output_type": "stream",
          "text": [
            "What is power of 10? 4\n"
          ],
          "name": "stdout"
        }
      ]
    },
    {
      "cell_type": "code",
      "metadata": {
        "colab": {
          "base_uri": "https://localhost:8080/"
        },
        "id": "coastal-trunk",
        "outputId": "605309a6-4934-4ffe-ad32-0baaf31f67c4"
      },
      "source": [
        "print(x**y)"
      ],
      "id": "coastal-trunk",
      "execution_count": null,
      "outputs": [
        {
          "output_type": "stream",
          "text": [
            "10000\n"
          ],
          "name": "stdout"
        }
      ]
    },
    {
      "cell_type": "markdown",
      "metadata": {
        "id": "leading-zimbabwe"
      },
      "source": [
        "***Answer 4)***"
      ],
      "id": "leading-zimbabwe"
    },
    {
      "cell_type": "code",
      "metadata": {
        "colab": {
          "base_uri": "https://localhost:8080/"
        },
        "id": "minute-sucking",
        "outputId": "edc4f5d2-3b7d-4c3e-bfee-a6766c5c0b7e"
      },
      "source": [
        "coins1 = int(input(\"Number of 1re coins: \"))"
      ],
      "id": "minute-sucking",
      "execution_count": null,
      "outputs": [
        {
          "output_type": "stream",
          "text": [
            "Number of 1re coins: 20\n"
          ],
          "name": "stdout"
        }
      ]
    },
    {
      "cell_type": "code",
      "metadata": {
        "colab": {
          "base_uri": "https://localhost:8080/"
        },
        "id": "handy-belfast",
        "outputId": "0bdd98bd-aab0-402f-dc59-c6ab0afe70fb"
      },
      "source": [
        "coins2 = int(input(\"Number of 2rs coins: \"))"
      ],
      "id": "handy-belfast",
      "execution_count": null,
      "outputs": [
        {
          "output_type": "stream",
          "text": [
            "Number of 2rs coins: 5\n"
          ],
          "name": "stdout"
        }
      ]
    },
    {
      "cell_type": "code",
      "metadata": {
        "colab": {
          "base_uri": "https://localhost:8080/"
        },
        "id": "higher-partner",
        "outputId": "2176a353-ca43-4c02-e4a8-0810048c8442"
      },
      "source": [
        "coins5 = int(input(\"Number of 5rs coins: \"))"
      ],
      "id": "higher-partner",
      "execution_count": null,
      "outputs": [
        {
          "output_type": "stream",
          "text": [
            "Number of 5rs coins: 10\n"
          ],
          "name": "stdout"
        }
      ]
    },
    {
      "cell_type": "code",
      "metadata": {
        "colab": {
          "base_uri": "https://localhost:8080/"
        },
        "id": "excessive-maldives",
        "outputId": "4fa77175-1686-4a23-abf3-e1415ec79e73"
      },
      "source": [
        "print(coins1+2*coins2+5*coins5)"
      ],
      "id": "excessive-maldives",
      "execution_count": null,
      "outputs": [
        {
          "output_type": "stream",
          "text": [
            "80\n"
          ],
          "name": "stdout"
        }
      ]
    }
  ]
}