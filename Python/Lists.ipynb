{
  "nbformat": 4,
  "nbformat_minor": 0,
  "metadata": {
    "colab": {
      "name": "Lists.ipynb",
      "provenance": [],
      "collapsed_sections": []
    },
    "kernelspec": {
      "name": "python3",
      "display_name": "Python 3"
    },
    "language_info": {
      "name": "python"
    }
  },
  "cells": [
    {
      "cell_type": "markdown",
      "metadata": {
        "id": "3S53mcyAxibD"
      },
      "source": [
        "# **GANDHAM PRASANTHI**\n",
        "\n",
        "# **1MS19CS045**\n"
      ]
    },
    {
      "cell_type": "markdown",
      "metadata": {
        "id": "0aC0aB4xxnSh"
      },
      "source": [
        "#**LISTS**\n",
        "\n",
        "---"
      ]
    },
    {
      "cell_type": "markdown",
      "metadata": {
        "id": "MUcH_jR9xnhv"
      },
      "source": [
        "## **QUESTIONS**\n",
        "\n",
        "---"
      ]
    },
    {
      "cell_type": "markdown",
      "metadata": {
        "id": "g9QD7-iOxuv5"
      },
      "source": [
        "1.\tWrite a python program to demonstrate, a list rotation consists of taking the last element and moving it to the front. For instance, if we rotate the list [1,2,3,4,5], we get [5,1,2,3,4]. If we rotate it again, we get [4,5,1,2,3].Write a Python function rotatelist(ls,k) that takes a list ls and a positive integer k and returns the list ls after k rotations. If k is not positive, your function should return ls unchanged. Note that your function should not change ls itself, and should return the rotated list.Here are some examples to show how your function should work.\n",
        "```\n",
        "  rotatelist([1,2,3,4,5],1) #output is [5, 1, 2, 3, 4]\n",
        "  rotatelist([1,2,3,4,5],3) #output is [3, 4, 5, 1, 2] \n",
        "  rotatelist([1,2,3,4,5],12) #output is [4, 5, 1, 2, 3]\n",
        "```\n",
        "2.\tWrite a python program to create list1 and list2, be two lists of integers.We say that list1 is a sublist of list2 if the elements in list1 appear in list2 in the same order as they appear in list1, but not necessarily consecutively.\n",
        " \n",
        "```\n",
        "  sublist([15, 1, 100], [20, 15, 30, 50, 1, 100])\n",
        "    True\n",
        "  sublist([15, 50, 20], [20, 15, 30, 50, 1, 100])\n",
        "    False\n",
        "```\n",
        "3.\tWrite a Python program that prompts the user to enter a list of words and stores in a list only those words whose first letter occurs again within the word (for example, 'Baboon'). The program should display the resulting list.\n"
      ]
    },
    {
      "cell_type": "markdown",
      "metadata": {
        "id": "XNU8Q-9Oyeyj"
      },
      "source": [
        "## **SOLUTIONS**\n",
        "\n",
        "---"
      ]
    },
    {
      "cell_type": "markdown",
      "metadata": {
        "id": "-XX-q16FyiYo"
      },
      "source": [
        "***Answer 1)***"
      ]
    },
    {
      "cell_type": "code",
      "metadata": {
        "id": "cN5m5Kk7yeSB"
      },
      "source": [
        "def rotateList(ls, k):\n",
        "  if k<1:\n",
        "    return ls\n",
        "  new_ls =[]\n",
        "  k = k%len(ls)\n",
        "  new_ls.extend(ls[-k:])\n",
        "  new_ls.extend(ls[:-k])\n",
        "  return new_ls"
      ],
      "execution_count": null,
      "outputs": []
    },
    {
      "cell_type": "code",
      "metadata": {
        "colab": {
          "base_uri": "https://localhost:8080/"
        },
        "id": "CdxnXTDE2VS_",
        "outputId": "0a97760e-0cf1-4c00-87a1-ca3e14302b95"
      },
      "source": [
        "rotateList([1,2,3,4,5],1)"
      ],
      "execution_count": null,
      "outputs": [
        {
          "output_type": "execute_result",
          "data": {
            "text/plain": [
              "[5, 1, 2, 3, 4]"
            ]
          },
          "metadata": {
            "tags": []
          },
          "execution_count": 34
        }
      ]
    },
    {
      "cell_type": "code",
      "metadata": {
        "colab": {
          "base_uri": "https://localhost:8080/"
        },
        "id": "x9idOi8J4O6-",
        "outputId": "14594541-51b6-481e-9fa4-93104cdb9597"
      },
      "source": [
        "rotateList([1,2,3,4,5],3)"
      ],
      "execution_count": null,
      "outputs": [
        {
          "output_type": "execute_result",
          "data": {
            "text/plain": [
              "[3, 4, 5, 1, 2]"
            ]
          },
          "metadata": {
            "tags": []
          },
          "execution_count": 35
        }
      ]
    },
    {
      "cell_type": "code",
      "metadata": {
        "colab": {
          "base_uri": "https://localhost:8080/"
        },
        "id": "oaBOc1Gk4hx6",
        "outputId": "9f943ab1-3f9f-45bc-bab7-1fff84ac9464"
      },
      "source": [
        "rotateList([1,2,3,4,5],12)"
      ],
      "execution_count": null,
      "outputs": [
        {
          "output_type": "execute_result",
          "data": {
            "text/plain": [
              "[4, 5, 1, 2, 3]"
            ]
          },
          "metadata": {
            "tags": []
          },
          "execution_count": 36
        }
      ]
    },
    {
      "cell_type": "markdown",
      "metadata": {
        "id": "F_cpdarB42MJ"
      },
      "source": [
        "***Answer 2)***"
      ]
    },
    {
      "cell_type": "code",
      "metadata": {
        "id": "KT79-9n348D8"
      },
      "source": [
        "def sublist(ls1, ls2):\n",
        "  index = 0\n",
        "  for item1 in ls1:\n",
        "    flag = False\n",
        "    for i in range(index, len(ls2)):\n",
        "      if item1 == ls2[i]:\n",
        "        index = i+1\n",
        "        flag = True\n",
        "    if not flag:\n",
        "      return False\n",
        "  return True\n",
        "    "
      ],
      "execution_count": null,
      "outputs": []
    },
    {
      "cell_type": "code",
      "metadata": {
        "colab": {
          "base_uri": "https://localhost:8080/"
        },
        "id": "J5xY64JA6aIN",
        "outputId": "aaa38800-7132-423a-eeda-566271f91fe4"
      },
      "source": [
        "sublist([15, 1, 100], [20, 15, 30, 50, 1, 100])"
      ],
      "execution_count": null,
      "outputs": [
        {
          "output_type": "execute_result",
          "data": {
            "text/plain": [
              "True"
            ]
          },
          "metadata": {
            "tags": []
          },
          "execution_count": 38
        }
      ]
    },
    {
      "cell_type": "code",
      "metadata": {
        "colab": {
          "base_uri": "https://localhost:8080/"
        },
        "id": "9EjsgOpu6dGR",
        "outputId": "88891765-35ef-4c7d-9f88-d10571075115"
      },
      "source": [
        "sublist([15, 50, 20], [20, 15, 30, 50, 1, 100])"
      ],
      "execution_count": null,
      "outputs": [
        {
          "output_type": "execute_result",
          "data": {
            "text/plain": [
              "False"
            ]
          },
          "metadata": {
            "tags": []
          },
          "execution_count": 39
        }
      ]
    },
    {
      "cell_type": "markdown",
      "metadata": {
        "id": "_hPVHuYA6eiv"
      },
      "source": [
        "***Answer 3)***"
      ]
    },
    {
      "cell_type": "code",
      "metadata": {
        "id": "R-REE5tk6g8I"
      },
      "source": [
        "def readNames():\n",
        "  n = int((input(\"Enter number of names: \")))\n",
        "  lst = []\n",
        "  for _ in range(n):\n",
        "    temp = input(\"Enter name: \")\n",
        "    first = temp[0].lower()\n",
        "    for char in temp[1:]:\n",
        "      if char.lower()==first:\n",
        "        lst.append(temp)\n",
        "        break\n",
        "  print(lst)"
      ],
      "execution_count": null,
      "outputs": []
    },
    {
      "cell_type": "code",
      "metadata": {
        "colab": {
          "base_uri": "https://localhost:8080/"
        },
        "id": "_zRVnnHK8DkB",
        "outputId": "dae9be68-19ee-4cbd-c903-65afd67cdfbd"
      },
      "source": [
        "readNames()"
      ],
      "execution_count": null,
      "outputs": [
        {
          "output_type": "stream",
          "text": [
            "Enter number of names: 5\n",
            "Enter name: baBloo\n",
            "Enter name: Babloo\n",
            "Enter name: bunty\n",
            "Enter name: babloo\n",
            "Enter name: sonia\n",
            "['baBloo', 'Babloo', 'babloo']\n"
          ],
          "name": "stdout"
        }
      ]
    }
  ]
}