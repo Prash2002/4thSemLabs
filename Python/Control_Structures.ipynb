{
  "nbformat": 4,
  "nbformat_minor": 5,
  "metadata": {
    "kernelspec": {
      "display_name": "Python 3",
      "language": "python",
      "name": "python3"
    },
    "language_info": {
      "codemirror_mode": {
        "name": "ipython",
        "version": 3
      },
      "file_extension": ".py",
      "mimetype": "text/x-python",
      "name": "python",
      "nbconvert_exporter": "python",
      "pygments_lexer": "ipython3",
      "version": "3.6.9"
    },
    "colab": {
      "name": "Control Structures.ipynb",
      "provenance": [],
      "collapsed_sections": []
    }
  },
  "cells": [
    {
      "cell_type": "markdown",
      "metadata": {
        "id": "sized-method"
      },
      "source": [
        "# **GANDHAM PRASANTHI**\n",
        "\n",
        "# **1MS19CS045**\n",
        "\n",
        "\n",
        "\n",
        "\n"
      ],
      "id": "sized-method"
    },
    {
      "cell_type": "markdown",
      "metadata": {
        "id": "immediate-owner"
      },
      "source": [
        "#**CONTROL STRUCTURES**\n",
        "\n",
        "---\n"
      ],
      "id": "immediate-owner"
    },
    {
      "cell_type": "markdown",
      "metadata": {
        "id": "lgQFVqUy_JlA"
      },
      "source": [
        "## **QUESTIONS**\n",
        "\n",
        "---"
      ],
      "id": "lgQFVqUy_JlA"
    },
    {
      "cell_type": "markdown",
      "metadata": {
        "id": "aquatic-anthony"
      },
      "source": [
        "1.\tWrite a Python program in which a student enters the number of college credits earned. \n",
        "\n",
        "```\n",
        "  If the number of credits is greater than 90, 'Senior Status' is displayed;\n",
        "  if greater than 60, 'Junior Status' is displayed;\n",
        "  if greater than 30, 'Sophomore Status' is displayed;\n",
        "  else, 'Freshman Status' is displayed.\n",
        "```\n",
        " \n",
        "2.\tWrite a program containing a pair of nested while loops that displays the integer values 1–100, ten numbers per row, with the columns aligned as shown below\n",
        "3.\tYou go on a wonderful holiday (perhaps to jail, if you don’t like happy exercises) leaving on day number 3 (a Wednesday). You return home after 137 sleeps. Write a general version of the program which asks for the starting day number, and the length of your stay, and it will tell you the name of day of the week you will return on. \n"
      ],
      "id": "aquatic-anthony"
    },
    {
      "cell_type": "markdown",
      "metadata": {
        "id": "S5eBsxLU_52B"
      },
      "source": [
        "## **SOLUTIONS**\n",
        "\n",
        "---"
      ],
      "id": "S5eBsxLU_52B"
    },
    {
      "cell_type": "markdown",
      "metadata": {
        "id": "iOriXP7RJTap"
      },
      "source": [
        "***Answer 1)***"
      ],
      "id": "iOriXP7RJTap"
    },
    {
      "cell_type": "code",
      "metadata": {
        "colab": {
          "base_uri": "https://localhost:8080/"
        },
        "id": "automated-harmony",
        "outputId": "47a855e8-1e11-4f4b-db4a-ffa240db0768"
      },
      "source": [
        "creds = int(input(\"Enter credits: \"))"
      ],
      "id": "automated-harmony",
      "execution_count": null,
      "outputs": [
        {
          "output_type": "stream",
          "text": [
            "Enter credits: 50\n"
          ],
          "name": "stdout"
        }
      ]
    },
    {
      "cell_type": "code",
      "metadata": {
        "colab": {
          "base_uri": "https://localhost:8080/"
        },
        "id": "simple-elimination",
        "outputId": "6aaf9504-78b8-49c6-bfc7-1c9763217af3"
      },
      "source": [
        "if creds> 90:\n",
        "    print(\"Senior Status1\")\n",
        "elif creds>60:\n",
        "    print(\"Junior Status\")\n",
        "elif creds>30:\n",
        "    print(\"Sophomore Status\")\n",
        "else:\n",
        "    print(\"Freshman Status\")"
      ],
      "id": "simple-elimination",
      "execution_count": null,
      "outputs": [
        {
          "output_type": "stream",
          "text": [
            "Sophomore Status\n"
          ],
          "name": "stdout"
        }
      ]
    },
    {
      "cell_type": "markdown",
      "metadata": {
        "id": "wCs4A2w2JU-u"
      },
      "source": [
        "***Answer 2)***"
      ],
      "id": "wCs4A2w2JU-u"
    },
    {
      "cell_type": "code",
      "metadata": {
        "colab": {
          "base_uri": "https://localhost:8080/"
        },
        "id": "alpine-robert",
        "outputId": "10b04c3c-803d-4bcb-c92f-2d39f7d2f2b6"
      },
      "source": [
        "i = 0\n",
        "while i<10:\n",
        "    j=1\n",
        "    while j<=10:\n",
        "        print(i*10+j, end=' ')\n",
        "        j+=1\n",
        "    print('')\n",
        "    i+=1"
      ],
      "id": "alpine-robert",
      "execution_count": null,
      "outputs": [
        {
          "output_type": "stream",
          "text": [
            "1 2 3 4 5 6 7 8 9 10 \n",
            "11 12 13 14 15 16 17 18 19 20 \n",
            "21 22 23 24 25 26 27 28 29 30 \n",
            "31 32 33 34 35 36 37 38 39 40 \n",
            "41 42 43 44 45 46 47 48 49 50 \n",
            "51 52 53 54 55 56 57 58 59 60 \n",
            "61 62 63 64 65 66 67 68 69 70 \n",
            "71 72 73 74 75 76 77 78 79 80 \n",
            "81 82 83 84 85 86 87 88 89 90 \n",
            "91 92 93 94 95 96 97 98 99 100 \n"
          ],
          "name": "stdout"
        }
      ]
    },
    {
      "cell_type": "markdown",
      "metadata": {
        "id": "c6h204kaJW3t"
      },
      "source": [
        "***Answer 3)***"
      ],
      "id": "c6h204kaJW3t"
    },
    {
      "cell_type": "code",
      "metadata": {
        "colab": {
          "base_uri": "https://localhost:8080/"
        },
        "id": "funny-discipline",
        "outputId": "c5d69c0e-259b-437c-8120-d295a8de7ca6"
      },
      "source": [
        "day, vac = input(\"Enter the day that you're leaving and for how many days: \").split()"
      ],
      "id": "funny-discipline",
      "execution_count": null,
      "outputs": [
        {
          "output_type": "stream",
          "text": [
            "Enter the day that you're leaving and for how many days: 4 3\n"
          ],
          "name": "stdout"
        }
      ]
    },
    {
      "cell_type": "code",
      "metadata": {
        "id": "champion-concrete"
      },
      "source": [
        "day = int(day)\n",
        "vac = int(vac)\n",
        "day += vac -1\n",
        "day%=7"
      ],
      "id": "champion-concrete",
      "execution_count": null,
      "outputs": []
    },
    {
      "cell_type": "code",
      "metadata": {
        "colab": {
          "base_uri": "https://localhost:8080/"
        },
        "id": "baking-helen",
        "outputId": "980365df-b9e0-4d35-99a7-6cbe55bedd89"
      },
      "source": [
        "if day==1:\n",
        "    print(\"Monday\")\n",
        "elif day==2:\n",
        "    print(\"Tuesday\")\n",
        "elif day==3:\n",
        "    print(\"Wednesday\")\n",
        "elif day==4:\n",
        "    print(\"Thrusday\")\n",
        "elif day==5:\n",
        "    print(\"Friday\")\n",
        "elif day==6:\n",
        "    print(\"Saturday\")\n",
        "elif day==7:\n",
        "    print(\"Sunday\")"
      ],
      "id": "baking-helen",
      "execution_count": null,
      "outputs": [
        {
          "output_type": "stream",
          "text": [
            "Saturday\n"
          ],
          "name": "stdout"
        }
      ]
    }
  ]
}