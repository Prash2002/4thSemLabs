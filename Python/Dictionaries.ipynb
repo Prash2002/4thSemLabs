{
  "nbformat": 4,
  "nbformat_minor": 0,
  "metadata": {
    "colab": {
      "name": "Dictionaries.ipynb",
      "provenance": [],
      "collapsed_sections": []
    },
    "kernelspec": {
      "name": "python3",
      "display_name": "Python 3"
    },
    "language_info": {
      "name": "python"
    }
  },
  "cells": [
    {
      "cell_type": "markdown",
      "metadata": {
        "id": "3S53mcyAxibD"
      },
      "source": [
        "# **GANDHAM PRASANTHI**\n",
        "\n",
        "# **1MS19CS045**\n"
      ]
    },
    {
      "cell_type": "markdown",
      "metadata": {
        "id": "0aC0aB4xxnSh"
      },
      "source": [
        "#**DICTIONARIES**\n",
        "\n",
        "---"
      ]
    },
    {
      "cell_type": "markdown",
      "metadata": {
        "id": "MUcH_jR9xnhv"
      },
      "source": [
        "## **QUESTIONS**\n",
        "\n",
        "---"
      ]
    },
    {
      "cell_type": "markdown",
      "metadata": {
        "id": "k0BT0tYVcil-"
      },
      "source": [
        "1.\tCreate a python dictionary for words and their meanings. Write functions to add a new entry (word:meaning) ,search for a particular word and retrieve meaning, given meaning find words with same meaning , remove an entry, display all words sorted alphabetically. [Program must be menu driven]\n",
        "2.\tWrite a Python script to concatenate following dictionaries to create a new one. \n",
        "```\n",
        "Sample Dictionary : dic1={1:10, 2:20} dic2={3:30, 4:40} dic3={5:50,6:60} \n",
        "Expected Result : {1: 10, 2: 20, 3: 30, 4: 40, 5: 50, 6: 60}\n",
        "```\n",
        "3.\tWrite the function nearestBusStop(street) that takes a non-negative int street number, and returns the nearest bus stop to the given street, where buses stop every 8th street, including street 0, and ties go to the lower street, so the nearest bus stop to 12th street is 8th street, and the nearest bus stop to 13 street is 16th street. The function returns an integer, so for example, nearestBusStop(5) returns 8.\t\n"
      ]
    },
    {
      "cell_type": "markdown",
      "metadata": {
        "id": "XNU8Q-9Oyeyj"
      },
      "source": [
        "## **SOLUTIONS**\n",
        "\n",
        "---"
      ]
    },
    {
      "cell_type": "markdown",
      "metadata": {
        "id": "-XX-q16FyiYo"
      },
      "source": [
        "***Answer 1)***"
      ]
    },
    {
      "cell_type": "code",
      "metadata": {
        "id": "wPmVnAQOfKpK"
      },
      "source": [
        "d={}"
      ],
      "execution_count": 19,
      "outputs": []
    },
    {
      "cell_type": "code",
      "metadata": {
        "id": "SpdeBksyfGHG"
      },
      "source": [
        "def add():\n",
        "  word = input(\"Enter word \")\n",
        "  mean = input(\"Enter meaning \")\n",
        "  d[word] = mean"
      ],
      "execution_count": 20,
      "outputs": []
    },
    {
      "cell_type": "code",
      "metadata": {
        "id": "l3I-3s1tfcx3"
      },
      "source": [
        "def search():\n",
        "  word = input(\"Enter word to be searched \")\n",
        "  if word in d:\n",
        "    print(d[word])\n",
        "  else:\n",
        "    print(\"word doesn't exist in dictionary\")"
      ],
      "execution_count": 21,
      "outputs": []
    },
    {
      "cell_type": "code",
      "metadata": {
        "id": "9dyEOZIXfzFn"
      },
      "source": [
        "def findWord():\n",
        "  mean = input(\"Enter meaning of the word to be searched \")\n",
        "  for w in d:\n",
        "    if d[w]==mean:\n",
        "      print(w)"
      ],
      "execution_count": 22,
      "outputs": []
    },
    {
      "cell_type": "code",
      "metadata": {
        "id": "fBK191jZgedk"
      },
      "source": [
        "def remove():\n",
        "  word = input(\"Enter word to be removed \")\n",
        "  d.pop(word)\n"
      ],
      "execution_count": 23,
      "outputs": []
    },
    {
      "cell_type": "code",
      "metadata": {
        "id": "AIPnlHIpgpFT"
      },
      "source": [
        "def display():\n",
        "  print(\"The dictionary is: \")\n",
        "  for w in d:\n",
        "    print(w, \":\", d[w])"
      ],
      "execution_count": 24,
      "outputs": []
    },
    {
      "cell_type": "code",
      "metadata": {
        "colab": {
          "base_uri": "https://localhost:8080/",
          "height": 0
        },
        "id": "wfcHEZbad_nH",
        "outputId": "2b8fbd23-3be6-4efd-dcfc-65aed6162317"
      },
      "source": [
        "loop = True\n",
        "while loop:\n",
        "  choice = int(input(\"Enter your choice:\\n1.Add an Entry\\n2.Search\\n3.Find word\\n4.Remove an Entry\\n5.Display\\n6.Exit\\n\"))\n",
        "  if choice ==1:\n",
        "    add()\n",
        "  elif choice ==2:\n",
        "    search()\n",
        "  elif choice ==3:\n",
        "    findWord()\n",
        "  elif choice ==4:\n",
        "    remove()\n",
        "  elif choice ==5:\n",
        "    display()\n",
        "  elif choice == 6:\n",
        "    loop = False\n",
        "    break\n",
        "  else:\n",
        "    print(\"Enter correct choice\")"
      ],
      "execution_count": 26,
      "outputs": [
        {
          "output_type": "stream",
          "text": [
            "Enter your choice:\n",
            "1.Add an Entry\n",
            "2.Search\n",
            "3.Find word\n",
            "4.Remove an Entry\n",
            "5.Display\n",
            "6.Exit\n",
            "1\n",
            "Enter word nostalgia\n",
            "Enter meaning a sentimental longing or wistful affection\n",
            "Enter your choice:\n",
            "1.Add an Entry\n",
            "2.Search\n",
            "3.Find word\n",
            "4.Remove an Entry\n",
            "5.Display\n",
            "6.Exit\n",
            "5\n",
            "The dictionary is: \n",
            "nostalgia : a sentimental longing or wistful affection\n",
            "Enter your choice:\n",
            "1.Add an Entry\n",
            "2.Search\n",
            "3.Find word\n",
            "4.Remove an Entry\n",
            "5.Display\n",
            "6.Exit\n",
            "1\n",
            "Enter word reminiscence\n",
            "Enter meaning the enjoyable recollection of past events\n",
            "Enter your choice:\n",
            "1.Add an Entry\n",
            "2.Search\n",
            "3.Find word\n",
            "4.Remove an Entry\n",
            "5.Display\n",
            "6.Exit\n",
            "2\n",
            "Enter word to be searched reminiscence\n",
            "the enjoyable recollection of past events\n",
            "Enter your choice:\n",
            "1.Add an Entry\n",
            "2.Search\n",
            "3.Find word\n",
            "4.Remove an Entry\n",
            "5.Display\n",
            "6.Exit\n",
            "3\n",
            "Enter meaning of the word to be searched the enjoyable recollection of past events\n",
            "reminiscence\n",
            "Enter your choice:\n",
            "1.Add an Entry\n",
            "2.Search\n",
            "3.Find word\n",
            "4.Remove an Entry\n",
            "5.Display\n",
            "6.Exit\n",
            "4\n",
            "Enter word to be removed nostalgia\n",
            "Enter your choice:\n",
            "1.Add an Entry\n",
            "2.Search\n",
            "3.Find word\n",
            "4.Remove an Entry\n",
            "5.Display\n",
            "6.Exit\n",
            "5\n",
            "The dictionary is: \n",
            "reminiscence : the enjoyable recollection of past events\n",
            "Enter your choice:\n",
            "1.Add an Entry\n",
            "2.Search\n",
            "3.Find word\n",
            "4.Remove an Entry\n",
            "5.Display\n",
            "6.Exit\n",
            "6\n"
          ],
          "name": "stdout"
        }
      ]
    },
    {
      "cell_type": "markdown",
      "metadata": {
        "id": "nK0qqhaSipUK"
      },
      "source": [
        "***Answer 2)***"
      ]
    },
    {
      "cell_type": "code",
      "metadata": {
        "id": "ulVnLRAiitG_"
      },
      "source": [
        "def concatDict():\n",
        "  d1={1:10, 2:20}\n",
        "  d2={3:30, 4:40}\n",
        "  d3={5:50, 6:60}\n",
        "  d4={}\n",
        "  for i in (d1, d2, d3):\n",
        "    d4.update(i)\n",
        "  print(d4)"
      ],
      "execution_count": null,
      "outputs": []
    },
    {
      "cell_type": "code",
      "metadata": {
        "colab": {
          "base_uri": "https://localhost:8080/"
        },
        "id": "wZY-Tp5-jJ-M",
        "outputId": "6dbcfd74-efe6-4eb1-d71e-643e5189ada3"
      },
      "source": [
        "concatDict()"
      ],
      "execution_count": null,
      "outputs": [
        {
          "output_type": "stream",
          "text": [
            "{1: 10, 2: 20, 3: 30, 4: 40, 5: 50, 6: 60}\n"
          ],
          "name": "stdout"
        }
      ]
    },
    {
      "cell_type": "markdown",
      "metadata": {
        "id": "Eli4oLvAj7E7"
      },
      "source": [
        "***Answer 3)***"
      ]
    },
    {
      "cell_type": "code",
      "metadata": {
        "id": "_csCO6Zsj8pq"
      },
      "source": [
        "def nearestBusStop(street):\n",
        "  if street<0:\n",
        "    return 0\n",
        "  bs1 = street%8\n",
        "  bs2= 8- bs1\n",
        "  if bs1<=bs2:\n",
        "    return street - bs1\n",
        "  else:\n",
        "    return street + bs2"
      ],
      "execution_count": 17,
      "outputs": []
    },
    {
      "cell_type": "code",
      "metadata": {
        "colab": {
          "base_uri": "https://localhost:8080/",
          "height": 0
        },
        "id": "y7cju0MaymM5",
        "outputId": "66643156-889f-42a1-8bb2-e31d14e44b3a"
      },
      "source": [
        "st = int(input(\"Enter street number: \"))\n",
        "nearestBusStop(st)"
      ],
      "execution_count": 18,
      "outputs": [
        {
          "output_type": "stream",
          "text": [
            "Enter street number: 2\n"
          ],
          "name": "stdout"
        },
        {
          "output_type": "execute_result",
          "data": {
            "text/plain": [
              "0"
            ]
          },
          "metadata": {
            "tags": []
          },
          "execution_count": 18
        }
      ]
    }
  ]
}