{
  "nbformat": 4,
  "nbformat_minor": 5,
  "metadata": {
    "kernelspec": {
      "display_name": "Python 3",
      "language": "python",
      "name": "python3"
    },
    "language_info": {
      "codemirror_mode": {
        "name": "ipython",
        "version": 3
      },
      "file_extension": ".py",
      "mimetype": "text/x-python",
      "name": "python",
      "nbconvert_exporter": "python",
      "pygments_lexer": "ipython3",
      "version": "3.6.9"
    },
    "colab": {
      "name": "Strings.ipynb",
      "provenance": [],
      "collapsed_sections": []
    }
  },
  "cells": [
    {
      "cell_type": "markdown",
      "metadata": {
        "id": "amended-pharmacology"
      },
      "source": [
        "# **GANDHAM PRASANTHI**\n",
        "\n",
        "# **1MS19CS045**"
      ],
      "id": "amended-pharmacology"
    },
    {
      "cell_type": "markdown",
      "metadata": {
        "id": "fixed-bridges"
      },
      "source": [
        "#**STRINGS**\n",
        "\n",
        "---\n"
      ],
      "id": "fixed-bridges"
    },
    {
      "cell_type": "markdown",
      "metadata": {
        "id": "Xg14-XCp_Sgu"
      },
      "source": [
        "## **QUESTIONS**\n",
        "\n",
        "---"
      ],
      "id": "Xg14-XCp_Sgu"
    },
    {
      "cell_type": "markdown",
      "metadata": {
        "id": "computational-immigration"
      },
      "source": [
        "1.\tWrite a python program for , A string with parentheses is well bracketed if all parentheses are matched: every opening bracket has a matching closing bracket and vice versa. Write a Python function wellbracketed(s) that takes a string s containing parentheses and returns True if s is well bracketed and False otherwise. Here are some examples to show how your function should work.\n",
        "\n",
        "```\n",
        "  wellbracketed(\"22)\")\n",
        "    False\n",
        "  wellbracketed(\"(a+b)(a-b)\")\n",
        "    True\n",
        "  wellbracketed(\"(a(b+c)-d)((e+f)\")\n",
        "    False\n",
        "```\n",
        "2.\tWrite a python program that takes a string and prints the frequency of the characters contained in it. For Example: \n",
        "\n",
        "\n",
        "```\n",
        "  Input: Hello \n",
        "  Output: H:1 e:1 l:2 o:1\n",
        "```\n",
        "\n",
        "\n",
        "3.\tWrite a program that takes your full name as input and displays the abbreviations of the first and middle names except the last name which is displayed as it is. For example, if you r name is Robert Brett Roser, then the output should be R.B.Roser\n"
      ],
      "id": "computational-immigration"
    },
    {
      "cell_type": "markdown",
      "metadata": {
        "id": "BTnpMAUK_2Ky"
      },
      "source": [
        "## **SOLUTIONS**\n",
        "\n",
        "---"
      ],
      "id": "BTnpMAUK_2Ky"
    },
    {
      "cell_type": "markdown",
      "metadata": {
        "id": "Diw1wYBXX57_"
      },
      "source": [
        "***Answer 1)***"
      ],
      "id": "Diw1wYBXX57_"
    },
    {
      "cell_type": "code",
      "metadata": {
        "id": "cross-supplement"
      },
      "source": [
        "def wellbracketed(a):\n",
        "  count =0\n",
        "  for char in a:\n",
        "    if char == '(':\n",
        "      count += 1\n",
        "    elif char == ')':\n",
        "      count -=1\n",
        "    if count<0:\n",
        "      return False\n",
        "  if count == 0:\n",
        "    return True\n",
        "  return False\n",
        "    "
      ],
      "id": "cross-supplement",
      "execution_count": null,
      "outputs": []
    },
    {
      "cell_type": "code",
      "metadata": {
        "colab": {
          "base_uri": "https://localhost:8080/"
        },
        "id": "bPO7-PB5Xs_V",
        "outputId": "0e5ef390-4dac-4708-e9f0-0d0b674e35fc"
      },
      "source": [
        "wellbracketed(\"22)\")"
      ],
      "id": "bPO7-PB5Xs_V",
      "execution_count": null,
      "outputs": [
        {
          "output_type": "execute_result",
          "data": {
            "text/plain": [
              "False"
            ]
          },
          "metadata": {
            "tags": []
          },
          "execution_count": 3
        }
      ]
    },
    {
      "cell_type": "code",
      "metadata": {
        "colab": {
          "base_uri": "https://localhost:8080/"
        },
        "id": "h40xI1WwXtIH",
        "outputId": "a3fa05fc-d9ce-4e06-99cf-954d17d55c39"
      },
      "source": [
        "wellbracketed(\"(a+b)(a-b)\")"
      ],
      "id": "h40xI1WwXtIH",
      "execution_count": null,
      "outputs": [
        {
          "output_type": "execute_result",
          "data": {
            "text/plain": [
              "True"
            ]
          },
          "metadata": {
            "tags": []
          },
          "execution_count": 4
        }
      ]
    },
    {
      "cell_type": "code",
      "metadata": {
        "colab": {
          "base_uri": "https://localhost:8080/"
        },
        "id": "pHKHcRyPX3Bl",
        "outputId": "2ea15d60-024d-42c0-af9d-6114d9f38459"
      },
      "source": [
        "wellbracketed(\"(a(b+c)-d)((e+f)\")"
      ],
      "id": "pHKHcRyPX3Bl",
      "execution_count": null,
      "outputs": [
        {
          "output_type": "execute_result",
          "data": {
            "text/plain": [
              "False"
            ]
          },
          "metadata": {
            "tags": []
          },
          "execution_count": 5
        }
      ]
    },
    {
      "cell_type": "markdown",
      "metadata": {
        "id": "4NArPbPKX9qy"
      },
      "source": [
        "***Answer 2)***"
      ],
      "id": "4NArPbPKX9qy"
    },
    {
      "cell_type": "code",
      "metadata": {
        "id": "59adVq37X4lB"
      },
      "source": [
        "def frequency(s):\n",
        "  dic = {}\n",
        "  for char in s:\n",
        "    if char not in dic:\n",
        "      dic[char]=1\n",
        "    else:\n",
        "      dic[char]= dic[char]+1\n",
        "  print(dic)"
      ],
      "id": "59adVq37X4lB",
      "execution_count": null,
      "outputs": []
    },
    {
      "cell_type": "code",
      "metadata": {
        "colab": {
          "base_uri": "https://localhost:8080/"
        },
        "id": "aAhplbYlv7oG",
        "outputId": "e9679377-cdb0-4360-a4cd-e7c3e5a7298c"
      },
      "source": [
        "frequency(\"hello\")"
      ],
      "id": "aAhplbYlv7oG",
      "execution_count": null,
      "outputs": [
        {
          "output_type": "stream",
          "text": [
            "{'h': 1, 'e': 1, 'l': 2, 'o': 1}\n"
          ],
          "name": "stdout"
        }
      ]
    },
    {
      "cell_type": "markdown",
      "metadata": {
        "id": "9fz1GlAKv_9N"
      },
      "source": [
        "***Answer 3)***"
      ],
      "id": "9fz1GlAKv_9N"
    },
    {
      "cell_type": "code",
      "metadata": {
        "id": "ZOW0KPGhwDmi"
      },
      "source": [
        "def abbreviation():\n",
        "  fName, middleName, lastName = input(\"Enter your name: \").split()\n",
        "  print(fName[0]+'.'+ middleName[0]+ '.'+ lastName)"
      ],
      "id": "ZOW0KPGhwDmi",
      "execution_count": null,
      "outputs": []
    },
    {
      "cell_type": "code",
      "metadata": {
        "colab": {
          "base_uri": "https://localhost:8080/"
        },
        "id": "x9oIbSaAwoKT",
        "outputId": "bcb88a3a-d6f3-4f95-f737-3a0e1829a7f8"
      },
      "source": [
        "abbreviation()"
      ],
      "id": "x9oIbSaAwoKT",
      "execution_count": null,
      "outputs": [
        {
          "output_type": "stream",
          "text": [
            "Enter your name: Jeffrey Bezos Robert\n",
            "J.B.Robert\n"
          ],
          "name": "stdout"
        }
      ]
    }
  ]
}